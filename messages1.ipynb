{
 "cells": [
  {
   "cell_type": "code",
   "execution_count": 1,
   "metadata": {
    "collapsed": true
   },
   "outputs": [],
   "source": [
    "from collections import Counter\n",
    "import os\n",
    "\n",
    "import nltk\n",
    "from nltk.corpus import stopwords\n",
    "import pandas as pd"
   ]
  },
  {
   "cell_type": "code",
   "execution_count": 2,
   "metadata": {
    "collapsed": true
   },
   "outputs": [],
   "source": [
    "%matplotlib inline"
   ]
  },
  {
   "cell_type": "code",
   "execution_count": 3,
   "metadata": {},
   "outputs": [],
   "source": [
    "file_list = os.listdir('data/')\n",
    "l1 = sorted([f for f in file_list if len(f) == 7])\n",
    "l2 = sorted([f for f in file_list if len(f) == 8])\n",
    "sorted_file_list = l1 + l2"
   ]
  },
  {
   "cell_type": "code",
   "execution_count": 4,
   "metadata": {},
   "outputs": [],
   "source": [
    "def assign_year(i):\n",
    "    if i == 0:\n",
    "        y = 2019\n",
    "    elif 1 <= i <= 16:\n",
    "        y = 2018\n",
    "    elif 17 <= i <= 44:\n",
    "        y = 2017\n",
    "    elif 45 <= i <= 57:\n",
    "        y = 2016\n",
    "    elif 58 <= i <= 76:\n",
    "        y = 2015\n",
    "    elif 77 <= i <= 100:\n",
    "        y = 2014\n",
    "    elif 101 <= i <= 120:\n",
    "        y = 2013\n",
    "    elif 121 <= i <= 140:\n",
    "        y = 2012\n",
    "    return y"
   ]
  },
  {
   "cell_type": "code",
   "execution_count": 5,
   "metadata": {},
   "outputs": [],
   "source": [
    "df = pd.DataFrame(columns=['filename', 'text', 'year'])\n",
    "for i, f in enumerate(sorted_file_list):\n",
    "    df.loc[i] = [f, open('data/' + f).read(), assign_year(i)]"
   ]
  },
  {
   "cell_type": "code",
   "execution_count": 6,
   "metadata": {},
   "outputs": [
    {
     "data": {
      "text/plain": [
       "(141, 3)"
      ]
     },
     "execution_count": 6,
     "metadata": {},
     "output_type": "execute_result"
    }
   ],
   "source": [
    "df.shape"
   ]
  },
  {
   "cell_type": "code",
   "execution_count": 7,
   "metadata": {},
   "outputs": [
    {
     "data": {
      "text/html": [
       "<div>\n",
       "<style scoped>\n",
       "    .dataframe tbody tr th:only-of-type {\n",
       "        vertical-align: middle;\n",
       "    }\n",
       "\n",
       "    .dataframe tbody tr th {\n",
       "        vertical-align: top;\n",
       "    }\n",
       "\n",
       "    .dataframe thead th {\n",
       "        text-align: right;\n",
       "    }\n",
       "</style>\n",
       "<table border=\"1\" class=\"dataframe\">\n",
       "  <thead>\n",
       "    <tr style=\"text-align: right;\">\n",
       "      <th></th>\n",
       "      <th>filename</th>\n",
       "      <th>text</th>\n",
       "      <th>year</th>\n",
       "    </tr>\n",
       "  </thead>\n",
       "  <tbody>\n",
       "    <tr>\n",
       "      <th>0</th>\n",
       "      <td>1-1.txt</td>\n",
       "      <td>\\nCome have coffee with Concordia’s president\\...</td>\n",
       "      <td>2019</td>\n",
       "    </tr>\n",
       "    <tr>\n",
       "      <th>1</th>\n",
       "      <td>1-2.txt</td>\n",
       "      <td>\\nMessage from the president: 'It's been a sta...</td>\n",
       "      <td>2018</td>\n",
       "    </tr>\n",
       "    <tr>\n",
       "      <th>2</th>\n",
       "      <td>1-3.txt</td>\n",
       "      <td>\\nMessage to the university community from Ala...</td>\n",
       "      <td>2018</td>\n",
       "    </tr>\n",
       "    <tr>\n",
       "      <th>3</th>\n",
       "      <td>1-4.txt</td>\n",
       "      <td>\\nAlan Shepard to become president of Western ...</td>\n",
       "      <td>2018</td>\n",
       "    </tr>\n",
       "    <tr>\n",
       "      <th>4</th>\n",
       "      <td>1-5.txt</td>\n",
       "      <td>\\nMessage from the president: ‘I’m inspired ev...</td>\n",
       "      <td>2018</td>\n",
       "    </tr>\n",
       "  </tbody>\n",
       "</table>\n",
       "</div>"
      ],
      "text/plain": [
       "  filename                                               text  year\n",
       "0  1-1.txt  \\nCome have coffee with Concordia’s president\\...  2019\n",
       "1  1-2.txt  \\nMessage from the president: 'It's been a sta...  2018\n",
       "2  1-3.txt  \\nMessage to the university community from Ala...  2018\n",
       "3  1-4.txt  \\nAlan Shepard to become president of Western ...  2018\n",
       "4  1-5.txt  \\nMessage from the president: ‘I’m inspired ev...  2018"
      ]
     },
     "execution_count": 7,
     "metadata": {},
     "output_type": "execute_result"
    }
   ],
   "source": [
    "df.head()"
   ]
  },
  {
   "cell_type": "code",
   "execution_count": 8,
   "metadata": {
    "collapsed": true
   },
   "outputs": [],
   "source": [
    "df.text = df.text.apply(lambda x: str.lower(x) + ' ')"
   ]
  },
  {
   "cell_type": "code",
   "execution_count": 9,
   "metadata": {
    "collapsed": true
   },
   "outputs": [],
   "source": [
    "t1 = df.text.sum()"
   ]
  },
  {
   "cell_type": "code",
   "execution_count": 10,
   "metadata": {
    "collapsed": true
   },
   "outputs": [],
   "source": [
    "tokens = nltk.word_tokenize(t1)"
   ]
  },
  {
   "cell_type": "code",
   "execution_count": 11,
   "metadata": {},
   "outputs": [],
   "source": [
    "my_stp = ['email', 'facebook', 'twitter', 'linkedin', 'share']\n",
    "eng_stp = stopwords.words()\n",
    "stp = eng_stp + my_stp\n",
    "cleaned_tokens = [w for w in tokens if w not in stp and len(w) > 2]"
   ]
  },
  {
   "cell_type": "code",
   "execution_count": 12,
   "metadata": {
    "collapsed": true
   },
   "outputs": [],
   "source": [
    "c = Counter(cleaned_tokens)\n",
    "c['students'] += c['student']\n",
    "del c['student']"
   ]
  },
  {
   "cell_type": "code",
   "execution_count": 13,
   "metadata": {
    "scrolled": false
   },
   "outputs": [],
   "source": [
    "most_common_words = c.most_common(100)"
   ]
  },
  {
   "cell_type": "code",
   "execution_count": 14,
   "metadata": {},
   "outputs": [
    {
     "data": {
      "text/plain": [
       "[('concordia', 899),\n",
       " ('university', 522),\n",
       " ('shepard', 469),\n",
       " ('students', 447),\n",
       " ('president', 408),\n",
       " ('alan', 351),\n",
       " ('research', 284),\n",
       " ('new', 259),\n",
       " ('year', 215),\n",
       " ('community', 202),\n",
       " ('faculty', 192),\n",
       " ('academic', 143),\n",
       " ('story', 141),\n",
       " ('one', 134),\n",
       " ('says', 134),\n",
       " ('alumni', 131),\n",
       " ('members', 128),\n",
       " ('said', 114),\n",
       " ('canada', 113),\n",
       " ('support', 111),\n",
       " ('education', 109),\n",
       " ('teaching', 108),\n",
       " ('work', 107),\n",
       " ('learning', 101),\n",
       " ('great', 96),\n",
       " ('two', 95),\n",
       " ('strategic', 95),\n",
       " ('quebec', 90),\n",
       " ('science', 90),\n",
       " ('september', 89),\n",
       " ('staff', 88),\n",
       " ('campus', 86),\n",
       " ('time', 82),\n",
       " ('arts', 80),\n",
       " ('montreal', 80),\n",
       " ('directions', 79),\n",
       " ('many', 78),\n",
       " ('universities', 78),\n",
       " ('board', 78),\n",
       " ('innovation', 77),\n",
       " ('program', 77),\n",
       " ('well', 76),\n",
       " ('future', 75),\n",
       " ('sexual', 75),\n",
       " ('years', 74),\n",
       " ('engineering', 74),\n",
       " ('first', 72),\n",
       " ('world', 71),\n",
       " ('make', 70),\n",
       " ('funding', 70),\n",
       " ('million', 69),\n",
       " ('events', 69),\n",
       " ('government', 68),\n",
       " ('people', 67),\n",
       " ('opportunities', 67),\n",
       " ('graduate', 65),\n",
       " ('department', 65),\n",
       " ('part', 64),\n",
       " ('concordians', 61),\n",
       " ('budget', 60),\n",
       " ('committee', 60),\n",
       " ('international', 60),\n",
       " ('centre', 58),\n",
       " ('plan', 58),\n",
       " ('next', 57),\n",
       " ('april', 56),\n",
       " ('vice-president', 55),\n",
       " ('public', 54),\n",
       " ('carr', 54),\n",
       " ('technology', 53),\n",
       " ('provost', 53),\n",
       " ('best', 53),\n",
       " ('like', 52),\n",
       " ('continue', 52),\n",
       " ('media', 52),\n",
       " ('canadian', 52),\n",
       " ('loyola', 51),\n",
       " ('williams', 51),\n",
       " ('including', 51),\n",
       " ('event', 50),\n",
       " ('senate', 50),\n",
       " ('take', 50),\n",
       " ('professor', 50),\n",
       " ('george', 49),\n",
       " ('version', 48),\n",
       " ('meet', 48),\n",
       " ('social', 48),\n",
       " ('business', 48),\n",
       " ('forward', 48),\n",
       " ('development', 47),\n",
       " ('process', 47),\n",
       " ('environment', 46),\n",
       " ('policy', 46),\n",
       " ('services', 46),\n",
       " ('digital', 46),\n",
       " ('campaign', 46),\n",
       " ('group', 45),\n",
       " ('programs', 45),\n",
       " ('school', 45),\n",
       " ('next-generation', 45)]"
      ]
     },
     "execution_count": 14,
     "metadata": {},
     "output_type": "execute_result"
    }
   ],
   "source": [
    "most_common_words"
   ]
  },
  {
   "cell_type": "code",
   "execution_count": 15,
   "metadata": {},
   "outputs": [],
   "source": [
    "mc_words_lst = [w for w, freq in most_common_words]"
   ]
  },
  {
   "cell_type": "code",
   "execution_count": 16,
   "metadata": {
    "collapsed": true
   },
   "outputs": [],
   "source": [
    "bigrams = nltk.bigrams(tokens)"
   ]
  },
  {
   "cell_type": "code",
   "execution_count": 17,
   "metadata": {},
   "outputs": [],
   "source": [
    "relevant_bigrams = [(a, b) for (a, b) in bigrams if a in mc_words_lst or b in mc_words_lst]"
   ]
  },
  {
   "cell_type": "code",
   "execution_count": 18,
   "metadata": {},
   "outputs": [],
   "source": [
    "c2 = Counter(relevant_bigrams)"
   ]
  },
  {
   "cell_type": "code",
   "execution_count": 19,
   "metadata": {
    "collapsed": true
   },
   "outputs": [],
   "source": [
    "most_common_bigrams = c2.most_common(100)"
   ]
  },
  {
   "cell_type": "code",
   "execution_count": 20,
   "metadata": {
    "scrolled": false
   },
   "outputs": [
    {
     "data": {
      "text/plain": [
       "[(('alan', 'shepard'), 338),\n",
       " (('the', 'university'), 279),\n",
       " (('concordia', '’'), 220),\n",
       " (('this', 'story'), 141),\n",
       " (('president', 'alan'), 127),\n",
       " (('university', '’'), 96),\n",
       " (('students', ','), 89),\n",
       " (('the', 'concordia'), 82),\n",
       " (('concordia', 'president'), 80),\n",
       " ((',', 'concordia'), 79),\n",
       " (('the', 'president'), 77),\n",
       " (('one', 'of'), 70),\n",
       " (('members', 'of'), 66),\n",
       " (('of', 'concordia'), 66),\n",
       " (('faculty', 'and'), 61),\n",
       " (('.', 'concordia'), 59),\n",
       " (('concordia', 'university'), 57),\n",
       " (('shepard', 'president'), 55),\n",
       " (('”', 'says'), 55),\n",
       " (('university', '.'), 55),\n",
       " (('part', 'of'), 54),\n",
       " (('concordia', 'community'), 52),\n",
       " (('for', 'concordia'), 52),\n",
       " (('department', 'of'), 51),\n",
       " (('and', 'staff'), 51),\n",
       " (('president', '’'), 51),\n",
       " (('as', 'well'), 50),\n",
       " (('research', 'and'), 50),\n",
       " (('the', 'new'), 50),\n",
       " (('strategic', 'directions'), 49),\n",
       " (('the', 'government'), 48),\n",
       " (('well', 'as'), 48),\n",
       " (('the', 'department'), 48),\n",
       " (('.', 'alan'), 47),\n",
       " ((',', 'faculty'), 47),\n",
       " (('a', 'great'), 46),\n",
       " (('by', 'alan'), 46),\n",
       " (('the', 'board'), 45),\n",
       " (('version', 'française'), 45),\n",
       " ((',', 'including'), 45),\n",
       " (('concordia', '.'), 45),\n",
       " (('at', 'concordia'), 45),\n",
       " (('sir', 'george'), 44),\n",
       " (('said', '.'), 44),\n",
       " (('george', 'williams'), 44),\n",
       " (('says', '.'), 44),\n",
       " (('shepard', 'share'), 44),\n",
       " (('story', 'version'), 44),\n",
       " (('the', 'world'), 43),\n",
       " (('the', 'future'), 40),\n",
       " (('to', 'make'), 40),\n",
       " (('our', 'students'), 40),\n",
       " (('concordia', ','), 39),\n",
       " (('continue', 'to'), 39),\n",
       " (('concordia', 'is'), 38),\n",
       " (('higher', 'education'), 37),\n",
       " (('board', 'of'), 37),\n",
       " (('community', '.'), 37),\n",
       " (('our', 'community'), 36),\n",
       " (('to', 'concordia'), 35),\n",
       " (('year', '.'), 35),\n",
       " (('he', 'said'), 34),\n",
       " (('vice-president', 'of'), 34),\n",
       " (('community', ','), 34),\n",
       " (('to', 'meet'), 34),\n",
       " (('concordia', \"'s\"), 33),\n",
       " (('the', 'year'), 33),\n",
       " (('by', 'concordia'), 33),\n",
       " (('year', ','), 32),\n",
       " (('s', 'president'), 32),\n",
       " (('forward', 'to'), 32),\n",
       " (('this', 'year'), 32),\n",
       " (('in', 'teaching'), 31),\n",
       " ((',', 'september'), 31),\n",
       " (('sexual', 'violence'), 31),\n",
       " (('to', 'support'), 31),\n",
       " (('loyola', 'campus'), 31),\n",
       " (('university', ','), 30),\n",
       " (('a', 'new'), 30),\n",
       " (('the', 'first'), 30),\n",
       " (('computer', 'science'), 30),\n",
       " (('school', 'of'), 30),\n",
       " (('government', 'of'), 29),\n",
       " (('teaching', 'and'), 29),\n",
       " (('sexual', 'misconduct'), 29),\n",
       " (('the', 'best'), 28),\n",
       " (('opportunities', 'for'), 28),\n",
       " (('the', 'next'), 28),\n",
       " (('and', 'alumni'), 28),\n",
       " (('academic', 'year'), 28),\n",
       " (('shepard', ','), 28),\n",
       " (('”', 'shepard'), 28),\n",
       " (('williams', 'campus'), 28),\n",
       " (('alumni', 'relations'), 27),\n",
       " (('engineering', ','), 27),\n",
       " (('the', 'faculty'), 27),\n",
       " (('of', 'quebec'), 27),\n",
       " (('in', 'canada'), 27),\n",
       " (('and', 'vice-president'), 26),\n",
       " (('”', 'said'), 26)]"
      ]
     },
     "execution_count": 20,
     "metadata": {},
     "output_type": "execute_result"
    }
   ],
   "source": [
    "most_common_bigrams"
   ]
  },
  {
   "cell_type": "code",
   "execution_count": 21,
   "metadata": {
    "collapsed": true
   },
   "outputs": [],
   "source": [
    "top_meaningful_words = ['students', 'research', 'community', 'faculty', 'academic', 'story', 'alumni', 'canada',\n",
    "       'support', 'education', 'teaching', 'work', 'learning', 'strategic', 'quebec', 'science',\n",
    "       'staff', 'campus', 'arts', 'montreal', 'universities', 'innovation',]"
   ]
  },
  {
   "cell_type": "code",
   "execution_count": 22,
   "metadata": {},
   "outputs": [],
   "source": [
    "sr = pd.Series(dict((w, c[w]) for w in top_meaningful_words))"
   ]
  },
  {
   "cell_type": "code",
   "execution_count": 23,
   "metadata": {},
   "outputs": [
    {
     "data": {
      "image/png": "[encoded data removed]",
      "text/plain": [
       "<Figure size 1152x432 with 1 Axes>"
      ]
     },
     "metadata": {},
     "output_type": "display_data"
    }
   ],
   "source": [
    "sr.sort_values(ascending=False).plot(\n",
    "    kind='bar',\n",
    "    figsize=(16,6),\n",
    "    rot=30,\n",
    ");"
   ]
  },
  {
   "cell_type": "code",
   "execution_count": 24,
   "metadata": {},
   "outputs": [],
   "source": [
    "sr2 = df.groupby('year')['text'].sum()"
   ]
  },
  {
   "cell_type": "code",
   "execution_count": 25,
   "metadata": {},
   "outputs": [
    {
     "data": {
      "text/plain": [
       "year\n",
       "2012    \\npresident extends best wishes for the holida...\n",
       "2013    \\nmessage from concordia president about bill ...\n",
       "2014    \\nconcordia's president offers his holiday gre...\n",
       "2015    \\npresident's holiday message 2015\\nwishing yo...\n",
       "2016    \\n9 strategic 'first moves'\\nfrom experiential...\n",
       "2017    \\nconcordia’s president is hosting two back-to...\n",
       "2018    \\nmessage from the president: 'it's been a sta...\n",
       "2019    \\ncome have coffee with concordia’s president\\...\n",
       "Name: text, dtype: object"
      ]
     },
     "execution_count": 25,
     "metadata": {},
     "output_type": "execute_result"
    }
   ],
   "source": [
    "sr2"
   ]
  },
  {
   "cell_type": "code",
   "execution_count": 26,
   "metadata": {
    "collapsed": true
   },
   "outputs": [],
   "source": [
    "d = {}\n",
    "for y in range(2012, 2019):\n",
    "    d[y] = {}\n",
    "    for w in top_meaningful_words[:5]:\n",
    "        d[y][w] = sr2[y].count(w)\n"
   ]
  },
  {
   "cell_type": "code",
   "execution_count": 27,
   "metadata": {},
   "outputs": [],
   "source": [
    "df2 = pd.DataFrame(d).T"
   ]
  },
  {
   "cell_type": "code",
   "execution_count": 28,
   "metadata": {},
   "outputs": [
    {
     "data": {
      "image/png": "[encoded data removed]",
      "text/plain": [
       "<Figure size 1152x432 with 1 Axes>"
      ]
     },
     "metadata": {},
     "output_type": "display_data"
    }
   ],
   "source": [
    "df2.plot(figsize=(16,6),);"
   ]
  },
  {
   "cell_type": "code",
   "execution_count": null,
   "metadata": {
    "collapsed": true
   },
   "outputs": [],
   "source": []
  }
 ],
 "metadata": {
  "kernelspec": {
   "display_name": "Python 3",
   "language": "python",
   "name": "python3"
  },
  "language_info": {
   "codemirror_mode": {
    "name": "ipython",
    "version": 3
   },
   "file_extension": ".py",
   "mimetype": "text/x-python",
   "name": "python",
   "nbconvert_exporter": "python",
   "pygments_lexer": "ipython3",
   "version": "3.5.2"
  }
 },
 "nbformat": 4,
 "nbformat_minor": 2
}
