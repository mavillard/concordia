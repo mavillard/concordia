{
 "cells": [
  {
   "cell_type": "code",
   "execution_count": 1,
   "metadata": {
    "collapsed": true
   },
   "outputs": [],
   "source": [
    "from collections import Counter\n",
    "import os\n",
    "\n",
    "import nltk\n",
    "from nltk.corpus import stopwords\n",
    "import pandas as pd\n",
    "import seaborn as sns"
   ]
  },
  {
   "cell_type": "code",
   "execution_count": 2,
   "metadata": {
    "collapsed": true
   },
   "outputs": [],
   "source": [
    "sns.set()"
   ]
  },
  {
   "cell_type": "code",
   "execution_count": 3,
   "metadata": {
    "collapsed": true
   },
   "outputs": [],
   "source": [
    "%matplotlib inline"
   ]
  },
  {
   "cell_type": "code",
   "execution_count": 4,
   "metadata": {
    "collapsed": true
   },
   "outputs": [],
   "source": [
    "file_list = os.listdir('data/')\n",
    "l1 = sorted([f for f in file_list if len(f) == 7])\n",
    "l2 = sorted([f for f in file_list if len(f) == 8])\n",
    "sorted_file_list = l1 + l2"
   ]
  },
  {
   "cell_type": "code",
   "execution_count": 5,
   "metadata": {
    "collapsed": true
   },
   "outputs": [],
   "source": [
    "def assign_year(i):\n",
    "    if i == 0:\n",
    "        y = 2019\n",
    "    elif 1 <= i <= 16:\n",
    "        y = 2018\n",
    "    elif 17 <= i <= 44:\n",
    "        y = 2017\n",
    "    elif 45 <= i <= 57:\n",
    "        y = 2016\n",
    "    elif 58 <= i <= 76:\n",
    "        y = 2015\n",
    "    elif 77 <= i <= 100:\n",
    "        y = 2014\n",
    "    elif 101 <= i <= 120:\n",
    "        y = 2013\n",
    "    elif 121 <= i <= 140:\n",
    "        y = 2012\n",
    "    return y"
   ]
  },
  {
   "cell_type": "code",
   "execution_count": 6,
   "metadata": {
    "collapsed": true
   },
   "outputs": [],
   "source": [
    "df = pd.DataFrame(columns=['filename', 'text', 'year'])\n",
    "for i, f in enumerate(sorted_file_list):\n",
    "    df.loc[i] = [f, open('data/' + f).read(), assign_year(i)]"
   ]
  },
  {
   "cell_type": "code",
   "execution_count": 7,
   "metadata": {},
   "outputs": [
    {
     "data": {
      "text/plain": [
       "(141, 3)"
      ]
     },
     "execution_count": 7,
     "metadata": {},
     "output_type": "execute_result"
    }
   ],
   "source": [
    "df.shape"
   ]
  },
  {
   "cell_type": "code",
   "execution_count": 8,
   "metadata": {},
   "outputs": [
    {
     "data": {
      "text/html": [
       "<div>\n",
       "<style scoped>\n",
       "    .dataframe tbody tr th:only-of-type {\n",
       "        vertical-align: middle;\n",
       "    }\n",
       "\n",
       "    .dataframe tbody tr th {\n",
       "        vertical-align: top;\n",
       "    }\n",
       "\n",
       "    .dataframe thead th {\n",
       "        text-align: right;\n",
       "    }\n",
       "</style>\n",
       "<table border=\"1\" class=\"dataframe\">\n",
       "  <thead>\n",
       "    <tr style=\"text-align: right;\">\n",
       "      <th></th>\n",
       "      <th>filename</th>\n",
       "      <th>text</th>\n",
       "      <th>year</th>\n",
       "    </tr>\n",
       "  </thead>\n",
       "  <tbody>\n",
       "    <tr>\n",
       "      <th>0</th>\n",
       "      <td>1-1.txt</td>\n",
       "      <td>\\nCome have coffee with Concordia’s president\\...</td>\n",
       "      <td>2019</td>\n",
       "    </tr>\n",
       "    <tr>\n",
       "      <th>1</th>\n",
       "      <td>1-2.txt</td>\n",
       "      <td>\\nMessage from the president: 'It's been a sta...</td>\n",
       "      <td>2018</td>\n",
       "    </tr>\n",
       "    <tr>\n",
       "      <th>2</th>\n",
       "      <td>1-3.txt</td>\n",
       "      <td>\\nMessage to the university community from Ala...</td>\n",
       "      <td>2018</td>\n",
       "    </tr>\n",
       "    <tr>\n",
       "      <th>3</th>\n",
       "      <td>1-4.txt</td>\n",
       "      <td>\\nAlan Shepard to become president of Western ...</td>\n",
       "      <td>2018</td>\n",
       "    </tr>\n",
       "    <tr>\n",
       "      <th>4</th>\n",
       "      <td>1-5.txt</td>\n",
       "      <td>\\nMessage from the president: ‘I’m inspired ev...</td>\n",
       "      <td>2018</td>\n",
       "    </tr>\n",
       "  </tbody>\n",
       "</table>\n",
       "</div>"
      ],
      "text/plain": [
       "  filename                                               text  year\n",
       "0  1-1.txt  \\nCome have coffee with Concordia’s president\\...  2019\n",
       "1  1-2.txt  \\nMessage from the president: 'It's been a sta...  2018\n",
       "2  1-3.txt  \\nMessage to the university community from Ala...  2018\n",
       "3  1-4.txt  \\nAlan Shepard to become president of Western ...  2018\n",
       "4  1-5.txt  \\nMessage from the president: ‘I’m inspired ev...  2018"
      ]
     },
     "execution_count": 8,
     "metadata": {},
     "output_type": "execute_result"
    }
   ],
   "source": [
    "df.head()"
   ]
  },
  {
   "cell_type": "code",
   "execution_count": 9,
   "metadata": {
    "collapsed": true
   },
   "outputs": [],
   "source": [
    "df.text = df.text.apply(lambda x: str.lower(x) + ' ')"
   ]
  },
  {
   "cell_type": "code",
   "execution_count": 10,
   "metadata": {
    "collapsed": true
   },
   "outputs": [],
   "source": [
    "t1 = df.text.sum()"
   ]
  },
  {
   "cell_type": "code",
   "execution_count": 11,
   "metadata": {
    "collapsed": true
   },
   "outputs": [],
   "source": [
    "tokens = nltk.word_tokenize(t1)"
   ]
  },
  {
   "cell_type": "code",
   "execution_count": 12,
   "metadata": {
    "collapsed": true
   },
   "outputs": [],
   "source": [
    "my_stp = ['email', 'facebook', 'twitter', 'linkedin', 'share']\n",
    "eng_stp = stopwords.words()\n",
    "stp = eng_stp + my_stp\n",
    "cleaned_tokens = [w for w in tokens if w not in stp and len(w) > 2]"
   ]
  },
  {
   "cell_type": "code",
   "execution_count": 13,
   "metadata": {
    "collapsed": true
   },
   "outputs": [],
   "source": [
    "c = Counter(cleaned_tokens)\n",
    "c['students'] += c['student']\n",
    "del c['student']"
   ]
  },
  {
   "cell_type": "code",
   "execution_count": 14,
   "metadata": {
    "collapsed": true,
    "scrolled": false
   },
   "outputs": [],
   "source": [
    "most_common_words = c.most_common(100)"
   ]
  },
  {
   "cell_type": "code",
   "execution_count": 15,
   "metadata": {},
   "outputs": [
    {
     "data": {
      "text/plain": [
       "[('concordia', 899),\n",
       " ('university', 522),\n",
       " ('shepard', 469),\n",
       " ('students', 447),\n",
       " ('president', 408),\n",
       " ('alan', 351),\n",
       " ('research', 284),\n",
       " ('new', 259),\n",
       " ('year', 215),\n",
       " ('community', 202),\n",
       " ('faculty', 192),\n",
       " ('academic', 143),\n",
       " ('story', 141),\n",
       " ('one', 134),\n",
       " ('says', 134),\n",
       " ('alumni', 131),\n",
       " ('members', 128),\n",
       " ('said', 114),\n",
       " ('canada', 113),\n",
       " ('support', 111),\n",
       " ('education', 109),\n",
       " ('teaching', 108),\n",
       " ('work', 107),\n",
       " ('learning', 101),\n",
       " ('great', 96),\n",
       " ('two', 95),\n",
       " ('strategic', 95),\n",
       " ('science', 90),\n",
       " ('quebec', 90),\n",
       " ('september', 89),\n",
       " ('staff', 88),\n",
       " ('campus', 86),\n",
       " ('time', 82),\n",
       " ('arts', 80),\n",
       " ('montreal', 80),\n",
       " ('directions', 79),\n",
       " ('board', 78),\n",
       " ('universities', 78),\n",
       " ('many', 78),\n",
       " ('innovation', 77),\n",
       " ('program', 77),\n",
       " ('well', 76),\n",
       " ('sexual', 75),\n",
       " ('future', 75),\n",
       " ('engineering', 74),\n",
       " ('years', 74),\n",
       " ('first', 72),\n",
       " ('world', 71),\n",
       " ('make', 70),\n",
       " ('funding', 70),\n",
       " ('million', 69),\n",
       " ('events', 69),\n",
       " ('government', 68),\n",
       " ('opportunities', 67),\n",
       " ('people', 67),\n",
       " ('graduate', 65),\n",
       " ('department', 65),\n",
       " ('part', 64),\n",
       " ('concordians', 61),\n",
       " ('committee', 60),\n",
       " ('international', 60),\n",
       " ('budget', 60),\n",
       " ('plan', 58),\n",
       " ('centre', 58),\n",
       " ('next', 57),\n",
       " ('april', 56),\n",
       " ('vice-president', 55),\n",
       " ('carr', 54),\n",
       " ('public', 54),\n",
       " ('technology', 53),\n",
       " ('provost', 53),\n",
       " ('best', 53),\n",
       " ('continue', 52),\n",
       " ('like', 52),\n",
       " ('canadian', 52),\n",
       " ('media', 52),\n",
       " ('loyola', 51),\n",
       " ('williams', 51),\n",
       " ('including', 51),\n",
       " ('take', 50),\n",
       " ('senate', 50),\n",
       " ('professor', 50),\n",
       " ('event', 50),\n",
       " ('george', 49),\n",
       " ('meet', 48),\n",
       " ('version', 48),\n",
       " ('forward', 48),\n",
       " ('social', 48),\n",
       " ('business', 48),\n",
       " ('process', 47),\n",
       " ('development', 47),\n",
       " ('digital', 46),\n",
       " ('environment', 46),\n",
       " ('services', 46),\n",
       " ('campaign', 46),\n",
       " ('policy', 46),\n",
       " ('school', 45),\n",
       " ('important', 45),\n",
       " ('studies', 45),\n",
       " ('française', 45)]"
      ]
     },
     "execution_count": 15,
     "metadata": {},
     "output_type": "execute_result"
    }
   ],
   "source": [
    "most_common_words"
   ]
  },
  {
   "cell_type": "code",
   "execution_count": 16,
   "metadata": {
    "collapsed": true
   },
   "outputs": [],
   "source": [
    "mc_words_lst = [w for w, freq in most_common_words]"
   ]
  },
  {
   "cell_type": "code",
   "execution_count": 17,
   "metadata": {
    "collapsed": true
   },
   "outputs": [],
   "source": [
    "bigrams = nltk.bigrams(tokens)"
   ]
  },
  {
   "cell_type": "code",
   "execution_count": 18,
   "metadata": {
    "collapsed": true
   },
   "outputs": [],
   "source": [
    "relevant_bigrams = [(a, b) for (a, b) in bigrams\n",
    "                    if (a in mc_words_lst and b not in stp and len(b) > 2)\n",
    "                    or (b in mc_words_lst and a not in stp and len(a) > 2)]"
   ]
  },
  {
   "cell_type": "code",
   "execution_count": 19,
   "metadata": {
    "collapsed": true
   },
   "outputs": [],
   "source": [
    "c2 = Counter(relevant_bigrams)"
   ]
  },
  {
   "cell_type": "code",
   "execution_count": 20,
   "metadata": {
    "collapsed": true
   },
   "outputs": [],
   "source": [
    "most_common_bigrams = c2.most_common(100)"
   ]
  },
  {
   "cell_type": "code",
   "execution_count": 21,
   "metadata": {
    "scrolled": false
   },
   "outputs": [
    {
     "data": {
      "text/plain": [
       "[(('alan', 'shepard'), 338),\n",
       " (('president', 'alan'), 127),\n",
       " (('concordia', 'president'), 80),\n",
       " (('concordia', 'university'), 57),\n",
       " (('shepard', 'president'), 55),\n",
       " (('concordia', 'community'), 52),\n",
       " (('strategic', 'directions'), 49),\n",
       " (('version', 'française'), 45),\n",
       " (('sir', 'george'), 44),\n",
       " (('story', 'version'), 44),\n",
       " (('george', 'williams'), 44),\n",
       " (('higher', 'education'), 37),\n",
       " (('sexual', 'violence'), 31),\n",
       " (('loyola', 'campus'), 31),\n",
       " (('computer', 'science'), 30),\n",
       " (('sexual', 'misconduct'), 29),\n",
       " (('academic', 'year'), 28),\n",
       " (('williams', 'campus'), 28),\n",
       " (('alumni', 'relations'), 27),\n",
       " (('graham', 'carr'), 23),\n",
       " (('next', 'generation'), 22),\n",
       " (('faculty', 'members'), 22),\n",
       " (('university', 'community'), 21),\n",
       " (('research', 'funding'), 20),\n",
       " (('graduate', 'students'), 20),\n",
       " (('graduate', 'studies'), 20),\n",
       " (('academic', 'affairs'), 19),\n",
       " (('fine', 'arts'), 18),\n",
       " (('next-generation', 'university'), 17),\n",
       " (('last', 'year'), 17),\n",
       " (('shepard', 'said'), 17),\n",
       " (('new', 'academic'), 17),\n",
       " (('molson', 'school'), 17),\n",
       " (('visual', 'arts'), 17),\n",
       " (('take', 'pride'), 16),\n",
       " (('associate', 'professor'), 16),\n",
       " (('international', 'students'), 16),\n",
       " (('university', 'rankings'), 16),\n",
       " (('academic', 'plan'), 15),\n",
       " (('story', 'concordia'), 15),\n",
       " (('digital', 'strategy'), 15),\n",
       " (('indigenous', 'directions'), 15),\n",
       " (('arts', 'integrated'), 15),\n",
       " (('two', 'informal'), 13),\n",
       " (('president', 'concordia'), 13),\n",
       " (('staff', 'members'), 13),\n",
       " (('university', 'communications'), 13),\n",
       " (('look', 'forward'), 13),\n",
       " (('communications', 'services'), 13),\n",
       " (('public', 'scholars'), 13),\n",
       " (('science', 'complex'), 13),\n",
       " (('hosting', 'two'), 13),\n",
       " (('renaud', 'science'), 13),\n",
       " (('social', 'media'), 13),\n",
       " (('dear', 'concordians'), 12),\n",
       " (('would', 'like'), 11),\n",
       " (('teaching', 'awards'), 11),\n",
       " (('nine', 'strategic'), 11),\n",
       " (('research', 'chair'), 11),\n",
       " (('operating', 'budget'), 11),\n",
       " (('looking', 'forward'), 11),\n",
       " (('shepard', 'welcomes'), 11),\n",
       " (('game', 'plan'), 11),\n",
       " (('story', 'français'), 10),\n",
       " (('concordia', 'students'), 10),\n",
       " (('strategic', 'planning'), 10),\n",
       " (('alumni', 'chapter'), 10),\n",
       " (('shepard', 'says'), 10),\n",
       " (('new', 'year'), 10),\n",
       " (('faculty', 'member'), 10),\n",
       " (('sexual', 'assault'), 10),\n",
       " (('deputy', 'provost'), 10),\n",
       " (('new', 'president'), 10),\n",
       " (('great', 'summer'), 10),\n",
       " (('new', 'york'), 10),\n",
       " (('directions', 'leadership'), 9),\n",
       " (('directions', 'initiative'), 9),\n",
       " (('social', 'innovation'), 9),\n",
       " (('social', 'sciences'), 9),\n",
       " (('part-time', 'faculty'), 9),\n",
       " (('informal', 'events'), 9),\n",
       " (('concordia', 'student'), 9),\n",
       " (('says', 'shepard'), 9),\n",
       " (('technology', 'sandbox'), 9),\n",
       " (('experiential', 'learning'), 9),\n",
       " (('past', 'year'), 9),\n",
       " (('ryerson', 'university'), 9),\n",
       " (('two', 'years'), 8),\n",
       " (('join', 'alan'), 8),\n",
       " (('said', 'concordia'), 8),\n",
       " (('williams', 'university'), 8),\n",
       " (('computation', 'arts'), 8),\n",
       " (('university', 'education'), 8),\n",
       " (('said', 'carr'), 8),\n",
       " (('board', 'approved'), 8),\n",
       " (('make', 'concordia'), 8),\n",
       " (('president', 'message'), 7),\n",
       " (('canadian', 'universities'), 7),\n",
       " (('scholars', 'program'), 7),\n",
       " (('canada', 'excellence'), 7)]"
      ]
     },
     "execution_count": 21,
     "metadata": {},
     "output_type": "execute_result"
    }
   ],
   "source": [
    "most_common_bigrams"
   ]
  },
  {
   "cell_type": "code",
   "execution_count": 22,
   "metadata": {
    "collapsed": true
   },
   "outputs": [],
   "source": [
    "top_meaningful_words = ['students', 'research', 'community', 'faculty', 'academic', 'story', 'alumni', 'canada',\n",
    "       'support', 'education', 'teaching', 'work', 'learning', 'strategic', 'quebec', 'science',\n",
    "       'staff', 'campus', 'arts', 'montreal', 'universities', 'innovation',]"
   ]
  },
  {
   "cell_type": "code",
   "execution_count": 23,
   "metadata": {
    "collapsed": true
   },
   "outputs": [],
   "source": [
    "sr = pd.Series(dict((w, c[w]) for w in top_meaningful_words))"
   ]
  },
  {
   "cell_type": "code",
   "execution_count": 24,
   "metadata": {},
   "outputs": [
    {
     "data": {
      "image/png": "[encoded data removed]",
      "text/plain": [
       "<Figure size 1152x432 with 1 Axes>"
      ]
     },
     "metadata": {},
     "output_type": "display_data"
    }
   ],
   "source": [
    "ax = sr.sort_values(ascending=False).plot(\n",
    "    kind='bar',\n",
    "    figsize=(16,6),\n",
    "    rot=30,\n",
    "    title='Frequency of most common words'\n",
    ")\n",
    "ax.set_xlabel('Common words')\n",
    "ax.set_ylabel('Frequency');"
   ]
  },
  {
   "cell_type": "code",
   "execution_count": 25,
   "metadata": {
    "collapsed": true
   },
   "outputs": [],
   "source": [
    "sr2 = df.groupby('year')['text'].sum()"
   ]
  },
  {
   "cell_type": "code",
   "execution_count": 26,
   "metadata": {},
   "outputs": [
    {
     "data": {
      "text/plain": [
       "year\n",
       "2012    \\npresident extends best wishes for the holida...\n",
       "2013    \\nmessage from concordia president about bill ...\n",
       "2014    \\nconcordia's president offers his holiday gre...\n",
       "2015    \\npresident's holiday message 2015\\nwishing yo...\n",
       "2016    \\n9 strategic 'first moves'\\nfrom experiential...\n",
       "2017    \\nconcordia’s president is hosting two back-to...\n",
       "2018    \\nmessage from the president: 'it's been a sta...\n",
       "2019    \\ncome have coffee with concordia’s president\\...\n",
       "Name: text, dtype: object"
      ]
     },
     "execution_count": 26,
     "metadata": {},
     "output_type": "execute_result"
    }
   ],
   "source": [
    "sr2"
   ]
  },
  {
   "cell_type": "code",
   "execution_count": 27,
   "metadata": {
    "collapsed": true
   },
   "outputs": [],
   "source": [
    "d = {}\n",
    "for y in range(2012, 2019):\n",
    "    d[y] = {}\n",
    "    for w in top_meaningful_words[:5]:\n",
    "        if w == 'students':\n",
    "            d[y][w] = sr2[y].count('students') + sr2[y].count('student')\n",
    "        else:\n",
    "            d[y][w] = sr2[y].count(w)\n"
   ]
  },
  {
   "cell_type": "code",
   "execution_count": 28,
   "metadata": {
    "collapsed": true
   },
   "outputs": [],
   "source": [
    "df2 = pd.DataFrame(d).T"
   ]
  },
  {
   "cell_type": "code",
   "execution_count": 29,
   "metadata": {},
   "outputs": [
    {
     "data": {
      "image/png": "[encoded data removed]",
      "text/plain": [
       "<Figure size 1152x432 with 1 Axes>"
      ]
     },
     "metadata": {},
     "output_type": "display_data"
    }
   ],
   "source": [
    "ax = df2.plot(figsize=(16,6), title='Frequency of most common words accross time')\n",
    "ax.set_xlabel('Year')\n",
    "ax.set_ylabel('Frequency');"
   ]
  },
  {
   "cell_type": "code",
   "execution_count": null,
   "metadata": {
    "collapsed": true
   },
   "outputs": [],
   "source": []
  }
 ],
 "metadata": {
  "kernelspec": {
   "display_name": "Python 3",
   "language": "python",
   "name": "python3"
  },
  "language_info": {
   "codemirror_mode": {
    "name": "ipython",
    "version": 3
   },
   "file_extension": ".py",
   "mimetype": "text/x-python",
   "name": "python",
   "nbconvert_exporter": "python",
   "pygments_lexer": "ipython3",
   "version": "3.5.2"
  }
 },
 "nbformat": 4,
 "nbformat_minor": 2
}
